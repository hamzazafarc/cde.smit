{
 "cells": [
  {
   "cell_type": "markdown",
   "metadata": {},
   "source": [
    "1) A company decided to give bonus of 5% to employee if his/her year of service is more than 5 years.\n",
    "Ask user for their salary and year of service and print the net bonus amount."
   ]
  },
  {
   "cell_type": "code",
   "execution_count": null,
   "metadata": {},
   "outputs": [],
   "source": [
    "# used float for salary,\n",
    "# considering automated increment\n",
    "# by percentage in some companies\n",
    "salary = float(input(\"Enter your salary (only amount): \"))\n",
    "years_of_service = int(input(\"How many years have you worked for this company? \"))\n",
    "\n",
    "if years_of_service > 5:\n",
    "    print(\n",
    "        \"You have been granted a bonus of 5% of your salary, for your exceptional service to our company!\"\n",
    "    )\n",
    "    print(\"Bonus:\", salary * 0.05)\n",
    "else:\n",
    "    print(\n",
    "        \"Thank you for your dedication to the company.\\nUnfortunately, employees who have worked for more than 5 years in this company are eligible for the bonus.\"\n",
    "    )"
   ]
  },
  {
   "cell_type": "markdown",
   "metadata": {},
   "source": [
    "\n",
    "2) Write a program to check whether a person is eligible for voting or not. (accept age from user) if age is greater than 17 eligible otherwise not eligible"
   ]
  },
  {
   "cell_type": "code",
   "execution_count": null,
   "metadata": {},
   "outputs": [],
   "source": [
    "age = int(input(\"Enter your age: \"))\n",
    "if age > 17:\n",
    "    print(\"You are eligible to vote\")\n",
    "else:\n",
    "    print(\"You are ineligible to vote\")"
   ]
  },
  {
   "cell_type": "markdown",
   "metadata": {},
   "source": [
    "\n",
    "3) Write a program to check whether a number entered by user is even or odd."
   ]
  },
  {
   "cell_type": "code",
   "execution_count": null,
   "metadata": {},
   "outputs": [],
   "source": [
    "# parity: check odd or even\n",
    "parity_num = int(input(\"Enter a number to check if its even or odd:\\n\"))\n",
    "\n",
    "if parity_num % 2 == 0:\n",
    "    print(\"The number is even\")\n",
    "else:\n",
    "    print(\"The number is odd\")"
   ]
  },
  {
   "cell_type": "markdown",
   "metadata": {},
   "source": [
    "4) Write a program to check whether a number is divisible by 7 or not.\n",
    "Show Answer"
   ]
  },
  {
   "cell_type": "code",
   "execution_count": null,
   "metadata": {},
   "outputs": [],
   "source": [
    "divisible_7_num = int(input(\"Enter a number to check if its divisible by 7:\\n\"))\n",
    "\n",
    "if divisible_7_num % 7 == 0:\n",
    "    print(\n",
    "        f\"The number is divisible by 7 -- 7 x {divisible_7_num / 7} = {divisible_7_num}\"\n",
    "    )\n",
    "else:\n",
    "    print(\"The number is not divisible by 7\")"
   ]
  },
  {
   "cell_type": "markdown",
   "metadata": {},
   "source": [
    "5) Write a program to display \n",
    "\"Hello\" if a number entered by user is a multiple of five , otherwise print \"Bye\"."
   ]
  },
  {
   "cell_type": "code",
   "execution_count": null,
   "metadata": {},
   "outputs": [],
   "source": [
    "multiple_5_num = int(input(\"Enter a number to check if it is multiple of 5:\\n\"))\n",
    "\n",
    "if multiple_5_num % 5 == 0:\n",
    "    print(\"Hello\")\n",
    "else:\n",
    "    print(\"Bye\")"
   ]
  },
  {
   "cell_type": "markdown",
   "metadata": {},
   "source": [
    "6. Write a program to calculate the electricity bill (accept number of unit from user) according to the following criteria :\n",
    "   Unit Price  \n",
    "   uptp 100 units no charge\n",
    "   Next 200 units Rs 5 per unit\n",
    "   After 200 units Rs 10 per unit\n",
    "   (For example if input unit is 350 than total bill amount is Rs.3500\n",
    "   (For example if input unit is 97 than total bill amount is Rs.0\n",
    "   (For example if input unit is 150 than total bill amount is Rs.750\n"
   ]
  },
  {
   "cell_type": "code",
   "execution_count": null,
   "metadata": {},
   "outputs": [],
   "source": [
    "no_of_units = int(input(\"Enter no. of units to calculate electricity bill:\\n\"))\n",
    "\n",
    "print(\"Total: \", end=\"\")\n",
    "if no_of_units <= 100:\n",
    "    print(0)\n",
    "elif no_of_units <= 200:\n",
    "    print(no_of_units * 5)\n",
    "else:\n",
    "    print(no_of_units * 10)"
   ]
  },
  {
   "cell_type": "markdown",
   "metadata": {},
   "source": [
    "7) Write a program to display the last digit of a number.\n"
   ]
  },
  {
   "cell_type": "code",
   "execution_count": null,
   "metadata": {},
   "outputs": [],
   "source": [
    "last_digit_num = float(input(\"Enter a number to get the last digit:\\n\"))\n",
    "\n",
    "# check case if the number is int or float\n",
    "if int(last_digit_num) == last_digit_num:\n",
    "    last_digit_num = int(last_digit_num)\n",
    "\n",
    "print(\"Last Digit of {0} is {1}\".format(last_digit_num, str(last_digit_num)[-1]))"
   ]
  },
  {
   "cell_type": "markdown",
   "metadata": {},
   "source": [
    "9) Take values of length and breadth of a rectangle from user and print if it is square or rectangle."
   ]
  },
  {
   "cell_type": "code",
   "execution_count": null,
   "metadata": {},
   "outputs": [],
   "source": [
    "print(\"Enter only the values below, do not enter any units!\\n\")\n",
    "rect_length = float(input(\"Enter the length of rectangle: \"))\n",
    "rect_breadth = float(input(\"Enter the breadth of rectangle: \"))\n",
    "\n",
    "area = rect_length * rect_breadth\n",
    "\n",
    "print(\"Area of Rectangle:\", area)"
   ]
  },
  {
   "cell_type": "markdown",
   "metadata": {},
   "source": [
    "10) Take two int values from user and print greatest among them."
   ]
  },
  {
   "cell_type": "code",
   "execution_count": null,
   "metadata": {},
   "outputs": [],
   "source": [
    "num_1 = int(input(\"Enter a number: \"))\n",
    "num_2 = int(input(\"Enter another number: \"))\n",
    "\n",
    "result = \"{0} is greater than {1}\"\n",
    "\n",
    "if num_1 > num_2:\n",
    "    print(result.format(num_1, num_2))\n",
    "else:\n",
    "    print(result.format(num_2, num_1))"
   ]
  },
  {
   "cell_type": "markdown",
   "metadata": {},
   "source": [
    "11) A shop will give discount of 10% if the cost of purchased quantity is more than 1000.\n",
    "Ask user for quantity\n",
    "Suppose, one unit will cost 100.\n",
    "Judge and print total cost for user."
   ]
  },
  {
   "cell_type": "code",
   "execution_count": null,
   "metadata": {},
   "outputs": [],
   "source": [
    "unit_price = 100\n",
    "purchased_qty = int(input(\"Enter the purchased quantity for the item:\\n\"))\n",
    "\n",
    "total = unit_price * purchased_qty\n",
    "\n",
    "if total > 1000:\n",
    "    print(\"Total:\\n{0} - 10% = {1}\".format(total, total - (total * 0.1)))\n",
    "else:\n",
    "    print(\"Total:\\n{0}\".format(total))"
   ]
  },
  {
   "cell_type": "markdown",
   "metadata": {},
   "source": [
    "12) A school has following rules for grading system:\n",
    "\n",
    "a. Below 25 - F\n",
    "\n",
    "b. 25 to 45 - E\n",
    "\n",
    "c. 45 to 50 - D\n",
    "\n",
    "d. 50 to 60 - C\n",
    "\n",
    "e. 60 to 80 - B\n",
    "\n",
    "f. Above 80 - A\n",
    "\n",
    "Ask user to enter marks and print the corresponding grade."
   ]
  },
  {
   "cell_type": "code",
   "execution_count": null,
   "metadata": {},
   "outputs": [],
   "source": [
    "student_marks = float(input(\"Enter your marks: \"))\n",
    "\n",
    "if student_marks > 100:\n",
    "    raise ValueError(\"Invalid Marks!\")\n",
    "\n",
    "print(\"Grade: \", end=\"\")\n",
    "if student_marks > 80:\n",
    "    print(\"A\")\n",
    "elif student_marks >= 60:\n",
    "    print(\"B\")\n",
    "elif student_marks >= 50:\n",
    "    print(\"C\")\n",
    "elif student_marks >= 45:\n",
    "    print(\"D\")\n",
    "elif student_marks >= 25:\n",
    "    print(\"E\")\n",
    "else:\n",
    "    print(\"F\")"
   ]
  },
  {
   "cell_type": "markdown",
   "metadata": {},
   "source": [
    "13. Take input of age of 3 people by user and determine oldest and youngest among them.\n"
   ]
  },
  {
   "cell_type": "code",
   "execution_count": null,
   "metadata": {},
   "outputs": [],
   "source": [
    "age_1 = int(input(\"Enter Person 1's age: \"))\n",
    "age_2 = int(input(\"Enter Person 2's age: \"))\n",
    "age_3 = int(input(\"Enter Person 3's age: \"))\n",
    "\n",
    "print(f\"Ages:\\n - Person 1: {age_1}\\n - Person 2: {age_2}\\n - Person 3: {age_3}\")\n",
    "\n",
    "oldest = 0\n",
    "youngest = 0\n",
    "\n",
    "if age_1 > age_2:\n",
    "    if age_1 > age_3:\n",
    "        oldest = 1\n",
    "    else:\n",
    "        oldest = 3\n",
    "else:\n",
    "    if age_2 > age_3:\n",
    "        oldest = 2\n",
    "    else:\n",
    "        oldest = 3\n",
    "\n",
    "\n",
    "if age_1 < age_2:\n",
    "    if age_1 < age_3:\n",
    "        youngest = 1\n",
    "    else:\n",
    "        youngest = 3\n",
    "else:\n",
    "    if age_2 < age_3:\n",
    "        youngest = 2\n",
    "    else:\n",
    "        youngest = 3\n",
    "\n",
    "print(f\"\\nPerson {oldest} is oldest and Person {youngest} is youngest\")"
   ]
  },
  {
   "cell_type": "markdown",
   "metadata": {},
   "source": [
    "14)A student will not be allowed to sit in exam if his/her attendence is less than 75%.\n",
    "\n",
    "Take following input from user\n",
    "\n",
    "Number of classes held\n",
    "\n",
    "Number of classes attended.\n",
    "\n",
    "And print\n",
    "\n",
    "percentage of class attended\n",
    "\n",
    "Is student is allowed to sit in exam or not.\n"
   ]
  },
  {
   "cell_type": "code",
   "execution_count": null,
   "metadata": {},
   "outputs": [],
   "source": [
    "classes_held = int(input(\"Enter number of classes held: \"))\n",
    "classes_attended = int(input(\"Enter number of classes attended: \"))\n",
    "\n",
    "classes_percentage = (classes_attended / classes_held) * 100\n",
    "\n",
    "print(\"Attendance:\", classes_percentage)\n",
    "\n",
    "if classes_percentage < 75:\n",
    "    print(\"You are not allowed to sit in exam\")\n",
    "else:\n",
    "    print(\"You are allowed to sit in exam\")"
   ]
  },
  {
   "cell_type": "markdown",
   "metadata": {},
   "source": [
    "15) Modify the above question to allow student to sit if he/she has medical cause. Ask user if he/she has medical cause or not ( 'Y' or 'N' ) and print accordingly."
   ]
  },
  {
   "cell_type": "code",
   "execution_count": null,
   "metadata": {},
   "outputs": [],
   "source": [
    "has_medical_cause = input(\"Do you have a medical cause (Y / N): \")\n",
    "\n",
    "if has_medical_cause.lower() == \"y\":\n",
    "    print(\"You are allowed to sit in exam\")\n",
    "else:\n",
    "    print(\"You are not allowed to sit in exam\")"
   ]
  },
  {
   "cell_type": "markdown",
   "metadata": {},
   "source": [
    "16) Write a program to check if a year is leap year or not.\n",
    "\n",
    "If a year is divisible by 4 then it is leap year but if the year is century year like 2000, 1900, 2100 then it must be divisible by 400."
   ]
  },
  {
   "cell_type": "code",
   "execution_count": null,
   "metadata": {},
   "outputs": [],
   "source": [
    "leap_year_check = int(input(\"Enter year: \"))\n",
    "\n",
    "if leap_year_check % 4 == 0:\n",
    "    if leap_year_check % 100 == 0:\n",
    "        if leap_year_check % 400 == 0:\n",
    "            print(f\"{leap_year_check} is a leap year\")\n",
    "        else:\n",
    "            print(f\"{leap_year_check} is not leap year\")\n",
    "    else:\n",
    "        print(f\"{leap_year_check} is a leap year\")\n",
    "else:\n",
    "    print(f\"{leap_year_check} is not leap year\")"
   ]
  },
  {
   "cell_type": "markdown",
   "metadata": {},
   "source": [
    "17) Ask user to enter age, gender ( M or F ), marital status ( Y or N ) and then using following rules print their place of service.\n",
    "\n",
    "if employee is female, then she will work only in urban areas.\n",
    "\n",
    "if employee is a male and age is in between 20 to 40 then he may work in anywhere\n",
    "\n",
    "if employee is male and age is in between 40 t0 60 then he will work in urban areas only.\n",
    "\n",
    "And any other input of age should print \"ERROR\""
   ]
  },
  {
   "cell_type": "code",
   "execution_count": null,
   "metadata": {},
   "outputs": [],
   "source": [
    "employee_age = int(input(\"Enter your age: \"))\n",
    "employee_gender = input(\"Enter your gender (M/F): \")\n",
    "employee_marital_status = input(\"Are you married (Y / N): \")\n",
    "\n",
    "if employee_gender.lower() == \"f\":\n",
    "    print(\"You can only work in urban areas\")\n",
    "elif employee_gender.lower() == \"m\":\n",
    "    if employee_age < 20 or employee_age > 60:\n",
    "        raise ValueError(\"ERROR: age must be between 20 and 60\")\n",
    "\n",
    "    if employee_age > 40:\n",
    "        print(\"You can only work in urban areas\")\n",
    "    else:\n",
    "        print(\"You can work anywhere\")\n",
    "else:\n",
    "    raise ValueError(\"Gender can only be M or F\")"
   ]
  }
 ],
 "metadata": {
  "kernelspec": {
   "display_name": "Python 3 (ipykernel)",
   "language": "python",
   "name": "python3"
  },
  "language_info": {
   "codemirror_mode": {
    "name": "ipython",
    "version": 3
   },
   "file_extension": ".py",
   "mimetype": "text/x-python",
   "name": "python",
   "nbconvert_exporter": "python",
   "pygments_lexer": "ipython3",
   "version": "3.11.5"
  }
 },
 "nbformat": 4,
 "nbformat_minor": 2
}
