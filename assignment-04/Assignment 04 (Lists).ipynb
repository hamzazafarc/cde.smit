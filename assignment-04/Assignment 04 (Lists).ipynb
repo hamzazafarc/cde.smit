{
 "cells": [
  {
   "cell_type": "markdown",
   "id": "dac0c7d3",
   "metadata": {},
   "source": [
    "# Assignment 04 (Lists)"
   ]
  },
  {
   "cell_type": "markdown",
   "id": "40e7dc9a",
   "metadata": {},
   "source": [
    "1. Write a program that accepts a list from user and print the alternate element of list."
   ]
  },
  {
   "cell_type": "code",
   "execution_count": null,
   "id": "09042759",
   "metadata": {},
   "outputs": [],
   "source": [
    "user_input_1 = input('Enter values separated by comma (e.g. 3,Hello,6,7,8):\\n')\n",
    "\n",
    "values = [value.strip() for value in user_input_1.split(',')]\n",
    "\n",
    "for index, value in enumerate(values):\n",
    "  if index % 2 == 1:\n",
    "    print(value)"
   ]
  },
  {
   "cell_type": "markdown",
   "id": "e72cea91",
   "metadata": {},
   "source": [
    "2. Write a program that accepts a list from user. Your program should reverse the content of list and\n",
    "display it. Do not use reverse() method."
   ]
  },
  {
   "cell_type": "code",
   "execution_count": null,
   "id": "57e7aadd",
   "metadata": {},
   "outputs": [],
   "source": [
    "user_input_2 = input('Enter values separated by comma (e.g. 3,Hello,6,7,8):\\n')\n",
    "\n",
    "values = [value.strip() for value in user_input_2.split(',')]\n",
    "\n",
    "print(values[::-1])"
   ]
  },
  {
   "cell_type": "markdown",
   "id": "0f9381d4",
   "metadata": {},
   "source": [
    "3. Find and display the largest number of a list without using built-in function max(). Your program\n",
    "should ask the user to input values in list from keyboard."
   ]
  },
  {
   "cell_type": "code",
   "execution_count": null,
   "id": "04f74bdc",
   "metadata": {},
   "outputs": [],
   "source": [
    "user_input_3 = input('Enter numbers separated by comma (e.g. 3,4.5,6,7,8):\\n')\n",
    "\n",
    "values = [float(value.strip()) for value in user_input_3.split(',')]\n",
    "\n",
    "max = values[0]\n",
    "\n",
    "for value in values:\n",
    "  if value > max:\n",
    "    max = value\n",
    "    \n",
    "print('Largest Number:',max)"
   ]
  },
  {
   "cell_type": "markdown",
   "id": "e9cf4f04",
   "metadata": {},
   "source": [
    "4. Write a program that rotates the element of a list so that the element at the first index moves to the\n",
    "second index, the element in the second index moves to the third index, etc., and the element in the last\n",
    "index moves to the first index"
   ]
  },
  {
   "cell_type": "code",
   "execution_count": null,
   "id": "05d800dd",
   "metadata": {},
   "outputs": [],
   "source": [
    "user_input_4 = input(\"Enter values separated by comma (e.g. 3,4.5,6,Hello,Bye):\\n\")\n",
    "\n",
    "values = [value.strip() for value in user_input_4.split(\",\")]\n",
    "\n",
    "print('Original List:',values)\n",
    "\n",
    "values.insert(0, values.pop())\n",
    "\n",
    "print('Modified List:',values)"
   ]
  },
  {
   "cell_type": "markdown",
   "id": "ea343a51",
   "metadata": {},
   "source": [
    "5. Write a program that input a string and ask user to delete a given word from a string. "
   ]
  },
  {
   "cell_type": "code",
   "execution_count": null,
   "id": "a6ec46cc",
   "metadata": {},
   "outputs": [],
   "source": [
    "user_input_5a = input(\"Enter a sentence: \")\n",
    "user_input_5b = input(\"Enter a word to remove from sentence: \")\n",
    "\n",
    "list_5a = user_input_5a.split()\n",
    "\n",
    "list_5a.remove(user_input_5b)\n",
    "\n",
    "print(' '.join(list_5a))"
   ]
  },
  {
   "cell_type": "markdown",
   "id": "97a176e7",
   "metadata": {},
   "source": [
    "6. Write a program that reads a string from the user containing a date in the form mm/dd/yyyy. It\n",
    "should print the date in the form March 12, 2021. "
   ]
  },
  {
   "cell_type": "code",
   "execution_count": null,
   "id": "4a8cc723",
   "metadata": {},
   "outputs": [],
   "source": [
    "months = ['January', 'February', 'March', 'April', 'May', 'June', 'July', 'August', 'September', 'October', 'November', 'December']\n",
    "\n",
    "user_input_6 = input('Enter date in format mm/dd/yyyy:\\n')\n",
    "\n",
    "date_parts = user_input_6.split('/')\n",
    "\n",
    "if int(date_parts[0]) > 12 or int(date_parts[0]) < 1:\n",
    "  print('Invalid month. Please enter a month between 1 and 12.')\n",
    "\n",
    "print(f'{months[(int(date_parts[0]) % 12) - 1]} {int(date_parts[1])}, {date_parts[2]}')"
   ]
  },
  {
   "cell_type": "markdown",
   "id": "5606392c",
   "metadata": {},
   "source": [
    "7. Write a program with a function that accepts a string from keyboard and create a new string after\n",
    "converting character of each word capitalized. For instance, if the sentence is \"stop and smell the roses.\"  \n",
    "the output should be \"Stop And Smell The Roses\""
   ]
  },
  {
   "cell_type": "code",
   "execution_count": null,
   "id": "c5d147fd",
   "metadata": {},
   "outputs": [],
   "source": [
    "user_input_7 = input(\"Enter a sentence: \")\n",
    "\n",
    "print(user_input_7.title())"
   ]
  },
  {
   "cell_type": "markdown",
   "id": "0708fee4",
   "metadata": {},
   "source": [
    "8. Find the sum of each row of matrix of size m x n. For example for the following matrix output will be like this:  \n",
    "\n",
    "  ![Question 8 Matrix Image](q8-img.png)\n",
    "\n",
    "  Sum of row 1 = 32  \n",
    "  Sum of row 2 = 31  \n",
    "  Sum of row 3 = 63  \n"
   ]
  },
  {
   "cell_type": "code",
   "execution_count": null,
   "id": "59a803d0",
   "metadata": {},
   "outputs": [],
   "source": [
    "matrix = []\n",
    "\n",
    "while True:\n",
    "    matrix_row = input(\n",
    "        \"Enter row values separated by comma (or leave blank to finish):\\n\"\n",
    "    )\n",
    "    if matrix_row == \"\":\n",
    "        break\n",
    "    row_values = [int(value.strip()) for value in matrix_row.split(\",\")]\n",
    "    if len(matrix) > 0 and len(row_values) != len(matrix[0]):\n",
    "        print(\"Error: All rows must have the same number of columns. Please re-enter the row.\")\n",
    "        continue\n",
    "    matrix.append(row_values)\n",
    "    \n",
    "print(\"Matrix:\")\n",
    "for row in matrix:\n",
    "  print('|', end=' ')\n",
    "  print(*row, end=' ')\n",
    "  print('|')\n",
    "  \n",
    "print()\n",
    "  \n",
    "for index, row in enumerate(matrix):\n",
    "  print(f'Sum of Row {index}', end=': ')\n",
    "  print(*row, sep=', ', end=' ')\n",
    "  print(f'= {sum(row)}')"
   ]
  },
  {
   "cell_type": "markdown",
   "id": "31ab9b9c",
   "metadata": {},
   "source": [
    "9. Write a program to add two matrices of size n x m"
   ]
  },
  {
   "cell_type": "code",
   "execution_count": 6,
   "id": "ffd136c6",
   "metadata": {},
   "outputs": [
    {
     "name": "stdout",
     "output_type": "stream",
     "text": [
      "Sum of Matrices:\n",
      "|  3  3  |\n"
     ]
    }
   ],
   "source": [
    "def populate_matrix(no_of_rows = None, no_of_columns = None, matrix_name = 'Matrix 1'):\n",
    "  matrix = []\n",
    "  while True:\n",
    "    if no_of_rows is not None and len(matrix) >= no_of_rows:\n",
    "      break\n",
    "    matrix_row = input(\n",
    "        f\"Enter row values for {matrix_name} separated by comma (or leave blank to finish):\\n\"\n",
    "    )\n",
    "    if matrix_row == \"\":\n",
    "        break\n",
    "    row_values = [int(value.strip()) for value in matrix_row.split(\",\")]\n",
    "    if no_of_columns is not None and len(row_values) != no_of_columns:\n",
    "        print(\"Error: Each row must have same number of columns as the other matrix. Please re-enter the row.\")\n",
    "        continue\n",
    "    if len(matrix) > 0 and len(row_values) != len(matrix[0]):\n",
    "        print(\"Error: All rows must have the same number of columns. Please re-enter the row.\")\n",
    "        continue\n",
    "    matrix.append(row_values)\n",
    "  return matrix\n",
    "\n",
    "matrix_1 = populate_matrix()\n",
    "matrix_2 = populate_matrix(len(matrix_1), len(matrix_1[0]), 'Matrix 2')\n",
    "\n",
    "matrix_sum = []\n",
    "\n",
    "# * After the validations above, we can assume both matrices have the same dimensions\n",
    "for row in range(len(matrix_1)):\n",
    "  row_sum = []\n",
    "  for col in range(len(matrix_1[0])):\n",
    "    row_sum.append(matrix_1[row][col] + matrix_2[row][col])\n",
    "  matrix_sum.append(row_sum)\n",
    "  \n",
    "print(\"Sum of Matrices:\")\n",
    "for row in matrix_sum:\n",
    "  print('|', end=' ')\n",
    "  print(' '.join([str(i).rjust(2) for i in row]), end=' ')\n",
    "  print(' |')"
   ]
  },
  {
   "cell_type": "markdown",
   "id": "2c5f3cf0",
   "metadata": {},
   "source": [
    "10. Write a program to multiply two matrices"
   ]
  },
  {
   "cell_type": "code",
   "execution_count": 12,
   "id": "80e5e6e2",
   "metadata": {},
   "outputs": [
    {
     "name": "stdout",
     "output_type": "stream",
     "text": [
      "|  4  9  6 12 10 18  |\n",
      "|  6 12  9 16 15 24  |\n"
     ]
    }
   ],
   "source": [
    "def populate_matrix(no_of_rows=None, no_of_columns=None, matrix_name=\"Matrix 1\"):\n",
    "    matrix = []\n",
    "    while True:\n",
    "        if no_of_rows is not None and len(matrix) >= no_of_rows:\n",
    "            break\n",
    "        matrix_row = input(\n",
    "            f\"Enter row values for {matrix_name} separated by comma (or leave blank to finish):\\n\"\n",
    "        )\n",
    "        if matrix_row == \"\":\n",
    "            break\n",
    "        row_values = [int(value.strip()) for value in matrix_row.split(\",\")]\n",
    "        if no_of_columns is not None and len(row_values) != no_of_columns:\n",
    "            print(\n",
    "                \"Error: Each row must have same number of columns as the other matrix. Please re-enter the row.\"\n",
    "            )\n",
    "            continue\n",
    "        if len(matrix) > 0 and len(row_values) != len(matrix[0]):\n",
    "            print(\n",
    "                \"Error: All rows must have the same number of columns. Please re-enter the row.\"\n",
    "            )\n",
    "            continue\n",
    "        matrix.append(row_values)\n",
    "    return matrix\n",
    "\n",
    "\n",
    "matrix_1 = populate_matrix()\n",
    "matrix_2 = populate_matrix(\n",
    "    no_of_columns=len(matrix_1), no_of_rows=len(matrix_1[0]), matrix_name=\"Matrix 2\"\n",
    ")\n",
    "\n",
    "matrix_product = []\n",
    "\n",
    "# * After the validations above, we can assume order of multiplication is valid\n",
    "for row in matrix_1:\n",
    "  row_product = []\n",
    "  for col in matrix_2:\n",
    "    for idx, ci in enumerate(col):\n",
    "      row_product.append(row[idx] * ci)\n",
    "  matrix_product.append(row_product)\n",
    "  \n",
    "\n",
    "for row in matrix_product:\n",
    "  print('|', end=' ')\n",
    "  print(' '.join([str(i).rjust(2) for i in row]), end=' ')\n",
    "  print(' |')"
   ]
  }
 ],
 "metadata": {
  "kernelspec": {
   "display_name": "base",
   "language": "python",
   "name": "python3"
  },
  "language_info": {
   "codemirror_mode": {
    "name": "ipython",
    "version": 3
   },
   "file_extension": ".py",
   "mimetype": "text/x-python",
   "name": "python",
   "nbconvert_exporter": "python",
   "pygments_lexer": "ipython3",
   "version": "3.13.5"
  }
 },
 "nbformat": 4,
 "nbformat_minor": 5
}
