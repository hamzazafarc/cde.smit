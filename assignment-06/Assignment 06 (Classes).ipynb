{
  "cells": [
    {
      "cell_type": "markdown",
      "metadata": {
        "id": "XLFr4w_7OFN7"
      },
      "source": [
        "1. Write a Python program to create a class representing a Circle. Include methods to calculate its area and perimeter."
      ]
    },
    {
      "cell_type": "code",
      "execution_count": 6,
      "metadata": {},
      "outputs": [
        {
          "name": "stdout",
          "output_type": "stream",
          "text": [
            "6\n",
            "113.09733552923255\n",
            "37.69911184307752\n"
          ]
        }
      ],
      "source": [
        "import math\n",
        "\n",
        "\n",
        "class Circle:\n",
        "    def __init__(self, radius: float):\n",
        "        self.radius = radius\n",
        "\n",
        "    def area(self):\n",
        "        return math.pi * (self.radius**2)\n",
        "\n",
        "    # ? Circumference and Perimeter are same\n",
        "    def circumference(self):\n",
        "        return 2 * math.pi * self.radius\n",
        "\n",
        "\n",
        "small_circle = Circle(6)\n",
        "print(small_circle.radius)\n",
        "print(small_circle.area())\n",
        "print(small_circle.circumference())"
      ]
    },
    {
      "cell_type": "markdown",
      "metadata": {
        "id": "CBPk4mH4OTCO"
      },
      "source": [
        "2. Write a Python program to create a person class. Include attributes like name, country and date of birth. Implement a method to determine the person's age.\n"
      ]
    },
    {
      "cell_type": "code",
      "execution_count": null,
      "metadata": {},
      "outputs": [
        {
          "name": "stdout",
          "output_type": "stream",
          "text": [
            "Hamza\n",
            "Pakistan\n",
            "2004-09-26\n",
            "20\n"
          ]
        }
      ],
      "source": [
        "from datetime import date\n",
        "\n",
        "\n",
        "class Person():\n",
        "  def __init__(self, name: str, country: str, dob: date):\n",
        "    self.name = name\n",
        "    self.country = country\n",
        "    self.dob = dob\n",
        "    \n",
        "  def age(self):\n",
        "    current_date = date.today()\n",
        "    dob_date = self.dob\n",
        "    calc_age = current_date.year - dob_date.year\n",
        "    \n",
        "    if (current_date.month, current_date.day) < (dob_date.month, dob_date.day):\n",
        "        calc_age -= 1\n",
        "    return calc_age\n",
        "  \n",
        "me = Person('Hamza', 'Pakistan', date(2004, 9, 26))\n",
        "print(me.name)\n",
        "print(me.country)\n",
        "print(me.dob)\n",
        "print(me.age())"
      ]
    },
    {
      "cell_type": "markdown",
      "metadata": {},
      "source": [
        "3. Write a Python program to create a calculator class. Include methods for basic arithmetic operations."
      ]
    },
    {
      "cell_type": "code",
      "execution_count": null,
      "metadata": {},
      "outputs": [
        {
          "name": "stdout",
          "output_type": "stream",
          "text": [
            "12\n",
            "6\n",
            "24\n",
            "5\n"
          ]
        }
      ],
      "source": [
        "from math import prod\n",
        "\n",
        "\n",
        "class Calculator():\n",
        "  def __init__(self):\n",
        "    pass\n",
        "  \n",
        "  def add(self, *args):\n",
        "    \"\"\"Add numbers separated by comma\"\"\"\n",
        "    return sum(args)\n",
        "  \n",
        "  def subtract(self, *args):\n",
        "    \"\"\"The function will by default, subtract all numbers from the first number, from arguments\"\"\"\n",
        "    result = args[0]\n",
        "    for val in args[1:]:\n",
        "      result -= val\n",
        "    return val\n",
        "  \n",
        "  def multiply(self, *args):\n",
        "    return prod(args)\n",
        "  \n",
        "  def divide(self, *args):\n",
        "    \"\"\"The function will by default, divide all numbers from the first number, from arguments\"\"\"\n",
        "    result = args[0]\n",
        "    for val in args[1:]:\n",
        "      result /= val\n",
        "    return val\n",
        "\n",
        "  \n",
        "calc = Calculator()\n",
        "print(calc.add(2,4,6))\n",
        "print(calc.subtract(2,4,6))\n",
        "print(calc.multiply(1,2,3,4))\n",
        "print(calc.divide(100,2,2,5))"
      ]
    }
  ],
  "metadata": {
    "colab": {
      "provenance": []
    },
    "kernelspec": {
      "display_name": "Python 3",
      "name": "python3"
    },
    "language_info": {
      "codemirror_mode": {
        "name": "ipython",
        "version": 3
      },
      "file_extension": ".py",
      "mimetype": "text/x-python",
      "name": "python",
      "nbconvert_exporter": "python",
      "pygments_lexer": "ipython3",
      "version": "3.13.5"
    }
  },
  "nbformat": 4,
  "nbformat_minor": 0
}
