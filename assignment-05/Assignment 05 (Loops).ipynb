{
 "cells": [
  {
   "cell_type": "markdown",
   "id": "1fecb154",
   "metadata": {},
   "source": [
    "# Assignment 05 (Loops)"
   ]
  },
  {
   "cell_type": "markdown",
   "id": "c3c3bdfa",
   "metadata": {},
   "source": [
    "1. Write a Python program to print the numbers from 1 to 10 using a for loop"
   ]
  },
  {
   "cell_type": "code",
   "execution_count": 1,
   "id": "30388ab3",
   "metadata": {},
   "outputs": [
    {
     "name": "stdout",
     "output_type": "stream",
     "text": [
      "1 2 3 4 5 6 7 8 9 10 "
     ]
    }
   ],
   "source": [
    "for num in range(1,11):\n",
    "  print(num, end=' ')"
   ]
  },
  {
   "cell_type": "markdown",
   "id": "a6672e9a",
   "metadata": {},
   "source": [
    "2. Write a Python program to print the numbers from 20 to 1 using a while loop.\n"
   ]
  },
  {
   "cell_type": "code",
   "execution_count": 3,
   "id": "90f0ab56",
   "metadata": {},
   "outputs": [
    {
     "name": "stdout",
     "output_type": "stream",
     "text": [
      "20 19 18 17 16 15 14 13 12 11 10 9 8 7 6 5 4 3 2 1 "
     ]
    }
   ],
   "source": [
    "index = 20\n",
    "while index > 0:\n",
    "  print(index, end=' ')\n",
    "  index -= 1"
   ]
  },
  {
   "cell_type": "markdown",
   "id": "6e1d2049",
   "metadata": {},
   "source": [
    "3. Write a program to print even numbers from 1 to 10. "
   ]
  },
  {
   "cell_type": "code",
   "execution_count": 11,
   "id": "d7fc75ce",
   "metadata": {},
   "outputs": [
    {
     "name": "stdout",
     "output_type": "stream",
     "text": [
      "2 4 6 8 10 "
     ]
    }
   ],
   "source": [
    "for even in range(1, 11):\n",
    "  if even % 2 == 0:\n",
    "    print(even, end=' ')"
   ]
  },
  {
   "cell_type": "markdown",
   "id": "a2e57fc7",
   "metadata": {},
   "source": [
    "4. Write a program that prompts the user to enter a number n and prints all the\n",
    "numbers from 1 to n."
   ]
  },
  {
   "cell_type": "code",
   "execution_count": null,
   "id": "66c41ed0",
   "metadata": {},
   "outputs": [
    {
     "name": "stdout",
     "output_type": "stream",
     "text": [
      "1 2 3 4 5 6 7 8 9 10 11 "
     ]
    }
   ],
   "source": [
    "user_input_4 = int(input('Enter a number to print the sequence:\\n'))\n",
    "\n",
    "for num in range(1, user_input_4 + 1):\n",
    "  print(num, end=' ')"
   ]
  },
  {
   "cell_type": "markdown",
   "id": "9e8eb0d6",
   "metadata": {},
   "source": [
    "5. Write a program that prompts the user to enter a number n, and then prints all the\n",
    "odd numbers between 1 and n. "
   ]
  },
  {
   "cell_type": "code",
   "execution_count": null,
   "id": "f171839a",
   "metadata": {},
   "outputs": [
    {
     "name": "stdout",
     "output_type": "stream",
     "text": [
      "1 3 5 7 9 "
     ]
    }
   ],
   "source": [
    "user_input_5 = int(input('Enter a number to print the odd sequence:\\n'))\n",
    "\n",
    "for odd in range(1, user_input_5 + 1, 2):\n",
    "  print(odd, end=' ')"
   ]
  },
  {
   "cell_type": "markdown",
   "id": "c5327419",
   "metadata": {},
   "source": [
    "6. Write a program that prints 'Happy Birthday!' five times on screen. \n"
   ]
  },
  {
   "cell_type": "code",
   "execution_count": 14,
   "id": "90b1ac9e",
   "metadata": {},
   "outputs": [
    {
     "name": "stdout",
     "output_type": "stream",
     "text": [
      "Happy Birthday!\n",
      "Happy Birthday!\n",
      "Happy Birthday!\n",
      "Happy Birthday!\n",
      "Happy Birthday!\n"
     ]
    }
   ],
   "source": [
    "for i in range(5):\n",
    "  print('Happy Birthday!')"
   ]
  },
  {
   "cell_type": "markdown",
   "id": "5bd82302",
   "metadata": {},
   "source": [
    "7. Write a program that takes a number n as input from the user and generates the first\n",
    "n terms of the series formed by squaring the natural numbers.  \n",
    "\n",
    "Sample output  \n",
    "Enter a number: 6  \n",
    "The first 6 terms of the series are:  \n",
    "1 4 9 16 25 36  \n",
    "\n"
   ]
  },
  {
   "cell_type": "code",
   "execution_count": 16,
   "id": "ec2b98cb",
   "metadata": {},
   "outputs": [
    {
     "name": "stdout",
     "output_type": "stream",
     "text": [
      "1 4 9 16 25 36 "
     ]
    }
   ],
   "source": [
    "user_input_7 = int(input('Enter a number to print the squared sequence:\\n'))\n",
    "\n",
    "for num in range(1, user_input_7 + 1):\n",
    "  print(num**2, end=' ')"
   ]
  },
  {
   "cell_type": "markdown",
   "id": "7d506018",
   "metadata": {},
   "source": [
    "8. Write a program that prompts the user to input a number and prints its multiplication\n",
    "table."
   ]
  },
  {
   "cell_type": "code",
   "execution_count": 19,
   "id": "0f108e05",
   "metadata": {},
   "outputs": [
    {
     "name": "stdout",
     "output_type": "stream",
     "text": [
      "1 x  1 =  1\n",
      "1 x  2 =  2\n",
      "1 x  3 =  3\n",
      "1 x  4 =  4\n",
      "1 x  5 =  5\n",
      "1 x  6 =  6\n",
      "1 x  7 =  7\n",
      "1 x  8 =  8\n",
      "1 x  9 =  9\n",
      "1 x 10 = 10\n"
     ]
    }
   ],
   "source": [
    "user_input_8 = int(input('Enter a number to print the multiplication table:\\n'))\n",
    "\n",
    "for index in range(1, 11):\n",
    "  print(f'{user_input_8} x {str(index).rjust(2)} = {str(user_input_8 * index).rjust(2)}')"
   ]
  },
  {
   "cell_type": "markdown",
   "id": "bab36f07",
   "metadata": {},
   "source": [
    "9. Write a Python program to print the first 8 terms of an arithmetic progression starting\n",
    "with 3 and having a common difference of 4.  \n",
    "The program should output the following sequence:  \n",
    "3 7 11 15 19 23 27 31 "
   ]
  },
  {
   "cell_type": "code",
   "execution_count": 21,
   "id": "9e0e59d8",
   "metadata": {},
   "outputs": [
    {
     "name": "stdout",
     "output_type": "stream",
     "text": [
      "3 7 11 15 19 23 27 31 "
     ]
    }
   ],
   "source": [
    "for seq in range(8):\n",
    "  print(3 + (seq * 4), end=' ')"
   ]
  },
  {
   "cell_type": "markdown",
   "id": "711b7a5c",
   "metadata": {},
   "source": [
    "10. Write a Python program to print the first 6 terms of a geometric sequence starting\n",
    "with 2 and having a common ratio of 3.  \n",
    "The program should output the following sequence:  \n",
    "2 6 18 54 162 486   "
   ]
  },
  {
   "cell_type": "code",
   "execution_count": null,
   "id": "5daad542",
   "metadata": {},
   "outputs": [
    {
     "name": "stdout",
     "output_type": "stream",
     "text": [
      "2 6 18 54 162 486 "
     ]
    }
   ],
   "source": [
    "for r in range(6):\n",
    "  print(2 * 3**r, end=\" \")"
   ]
  },
  {
   "cell_type": "markdown",
   "id": "c72ea929",
   "metadata": {},
   "source": [
    "11. Write a program that asks the user for a positive integer value. The program should\n",
    "calculate the sum of all the integers from 1 up to the number entered. For example, if\n",
    "the user enters 20, the loop will find the sum of 1, 2, 3, 4, ... 20. "
   ]
  },
  {
   "cell_type": "code",
   "execution_count": 3,
   "id": "0cdadcef",
   "metadata": {},
   "outputs": [
    {
     "name": "stdout",
     "output_type": "stream",
     "text": [
      "55\n"
     ]
    }
   ],
   "source": [
    "user_input_11 = int(input('Enter a number to calculate sum from 1 to that number:\\n'))\n",
    "\n",
    "sum_nums = sum(i for i in range(1, user_input_11 + 1))\n",
    "\n",
    "print(sum_nums)"
   ]
  },
  {
   "cell_type": "markdown",
   "id": "8853f207",
   "metadata": {},
   "source": [
    "12. write a program that takes a positive integer N as input and calculates the sum of\n",
    "the reciprocals of all numbers from 1 up to N. The program should display the final sum.  \n",
    "Output of the program should be like:  \n",
    "Enter a positive integer: 5  \n",
    "The sum of reciprocals from 1 to 5 is: 2.28"
   ]
  },
  {
   "cell_type": "code",
   "execution_count": 6,
   "id": "b31b33e5",
   "metadata": {},
   "outputs": [
    {
     "name": "stdout",
     "output_type": "stream",
     "text": [
      "2.28\n"
     ]
    }
   ],
   "source": [
    "user_input_12 = int(input('Enter a number to calculate reciprocals from 1 to that number:\\n'))\n",
    "\n",
    "reciprocals = sum(1/i for i in range(1, user_input_12 + 1))\n",
    "\n",
    "print(f'{reciprocals:.2f}')"
   ]
  },
  {
   "cell_type": "markdown",
   "id": "548ce05a",
   "metadata": {},
   "source": [
    "13. Write a program that prompts the user to enter a number and repeats this process 5\n",
    "times. The program should accumulate the numbers entered and then display the final\n",
    "running total.  \n",
    "Sample Output:  \n",
    "Enter a number: 10  \n",
    "Enter a number: 15  \n",
    "Enter a number: 35  \n",
    "Enter a number: 40  \n",
    "Enter a number: 50  \n",
    "The final running total is: 150  "
   ]
  },
  {
   "cell_type": "code",
   "execution_count": null,
   "id": "a0c6557f",
   "metadata": {},
   "outputs": [
    {
     "name": "stdout",
     "output_type": "stream",
     "text": [
      "150\n"
     ]
    }
   ],
   "source": [
    "print('The final running total is:', sum(int(input('Enter a Number: ')) for i in range(5)))"
   ]
  },
  {
   "cell_type": "markdown",
   "id": "5d5e503b",
   "metadata": {},
   "source": [
    "14. Write a program that prompts the user to enter a positive integer and calculates its\n",
    "factorial. The factorial of a positive integer 'n' is denoted as 'n!' and is calculated by\n",
    "multiplying all the integers from 1 to 'n' together. For example, the factorial of 5\n",
    "(denoted as 5!) is calculated as 1 x 2 x 3 x 4 x 5  \n",
    "\n",
    "The program should display the factorial value if the input is a positive number, or\n",
    "display a message stating that the factorial does not exist for negative numbers.\n",
    "Additionally, for an input of zero, the program should output that the factorial of 0 is 1. "
   ]
  },
  {
   "cell_type": "code",
   "execution_count": 11,
   "id": "d9c2cc19",
   "metadata": {},
   "outputs": [
    {
     "name": "stdout",
     "output_type": "stream",
     "text": [
      "24\n"
     ]
    }
   ],
   "source": [
    "user_input_14 = int(input('Enter a number to calculate factorial'))\n",
    "\n",
    "if user_input_14 < 0:\n",
    "  print('The value is less than 0, the program automatically removed the - sign')\n",
    "  user_input_14 = abs(user_input_14)\n",
    "  exit()\n",
    "  \n",
    "if user_input_14 == 0:\n",
    "  print(0)\n",
    "  exit()\n",
    "  \n",
    "factorial = 1\n",
    "for i in range(1, user_input_14 + 1):\n",
    "  factorial *= i\n",
    "  \n",
    "print(factorial)"
   ]
  },
  {
   "cell_type": "markdown",
   "id": "f61408a1",
   "metadata": {},
   "source": [
    "15. Write a Python program that prompts the user to enter a base number and an\n",
    "exponent, and then calculates the power of the base to the exponent. The program\n",
    "should not use the exponentiation operator (**) or the math.pow() function. The\n",
    "program should handle both positive and negative exponents. "
   ]
  },
  {
   "cell_type": "code",
   "execution_count": null,
   "id": "942ef5e3",
   "metadata": {},
   "outputs": [
    {
     "name": "stdout",
     "output_type": "stream",
     "text": [
      "256\n"
     ]
    }
   ],
   "source": [
    "user_input_15a = int(input('Enter a number to calculate its power: '))\n",
    "user_input_15b = int(input('Enter power: '))\n",
    "\n",
    "squared = 1\n",
    "\n",
    "for power in range(1, user_input_15b + 1):\n",
    "  squared *= user_input_15a\n",
    "  \n",
    "print(squared)"
   ]
  }
 ],
 "metadata": {
  "kernelspec": {
   "display_name": "base",
   "language": "python",
   "name": "python3"
  },
  "language_info": {
   "codemirror_mode": {
    "name": "ipython",
    "version": 3
   },
   "file_extension": ".py",
   "mimetype": "text/x-python",
   "name": "python",
   "nbconvert_exporter": "python",
   "pygments_lexer": "ipython3",
   "version": "3.13.5"
  }
 },
 "nbformat": 4,
 "nbformat_minor": 5
}
