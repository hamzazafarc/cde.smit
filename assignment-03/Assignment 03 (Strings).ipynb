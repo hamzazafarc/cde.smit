{
 "cells": [
  {
   "cell_type": "markdown",
   "id": "751d5eb3",
   "metadata": {},
   "source": [
    "# Assignment 03 (Strings)"
   ]
  },
  {
   "cell_type": "markdown",
   "id": "041a3c15",
   "metadata": {},
   "source": [
    "1. Write a program that accepts a string from user. Your program should count and display number of \n",
    "vowels in that string."
   ]
  },
  {
   "cell_type": "code",
   "execution_count": 1,
   "id": "99a1fb9f",
   "metadata": {},
   "outputs": [
    {
     "name": "stdout",
     "output_type": "stream",
     "text": [
      "Number of vowels in aeiouAEIOU10ewt: 11\n"
     ]
    }
   ],
   "source": [
    "count_vowels = input('Enter something to count number of vowels:\\n')\n",
    "\n",
    "no_of_vowels = 0\n",
    "\n",
    "for char in count_vowels:\n",
    "  if char.lower() in 'aeiou':\n",
    "    no_of_vowels += 1\n",
    "\n",
    "print('Number of vowels in {0}: {1}'.format(count_vowels, no_of_vowels))"
   ]
  },
  {
   "cell_type": "markdown",
   "id": "a4ab9910",
   "metadata": {},
   "source": [
    "2. Write a program that reads a string from keyboard and display: \n",
    "* The number of uppercase letters in the string \n",
    "* The number of lowercase letters in the string \n",
    "* The number of digits in the string \n",
    "* The number of whitespace characters in the string "
   ]
  },
  {
   "cell_type": "code",
   "execution_count": null,
   "id": "b3c4babd",
   "metadata": {},
   "outputs": [
    {
     "name": "stdout",
     "output_type": "stream",
     "text": [
      "Uppercase Letters: 2\n",
      "Lowercase Letters: 8\n",
      "Digits: 0\n",
      "Spaces: 1\n"
     ]
    }
   ],
   "source": [
    "import string\n",
    "\n",
    "user_input_2 = input(\"Enter anything to stats about:\\n\")\n",
    "\n",
    "uppercase_letters = string.ascii_uppercase\n",
    "lowercase_letters = string.ascii_lowercase\n",
    "\n",
    "uppercase = 0\n",
    "lowercase = 0\n",
    "digits = 0\n",
    "spaces = 0\n",
    "\n",
    "for char in user_input_2:\n",
    "  if char in uppercase_letters:\n",
    "    uppercase += 1\n",
    "  elif char in lowercase_letters:\n",
    "    lowercase += 1\n",
    "  elif char.isdigit():\n",
    "    digits += 1\n",
    "  elif char.isspace():\n",
    "    spaces += 1\n",
    "    \n",
    "print('Uppercase Letters: {0}\\nLowercase Letters: {1}\\nDigits: {2}\\nSpaces: {3}'.format(uppercase, lowercase, digits, spaces))"
   ]
  },
  {
   "cell_type": "markdown",
   "id": "e846d531",
   "metadata": {},
   "source": [
    "3. Write a Python program that accepts a string from user. Your program should create and display a \n",
    "new string where the first and last characters have been exchanged. \n",
    "For example if the user enters the string 'HELLO' then new string would be 'OELLH'"
   ]
  },
  {
   "cell_type": "code",
   "execution_count": 5,
   "id": "0d6e0051",
   "metadata": {},
   "outputs": [
    {
     "name": "stdout",
     "output_type": "stream",
     "text": [
      "oellH\n"
     ]
    }
   ],
   "source": [
    "user_input_3 = input('Enter word/sentence to exchange the first and last character:\\n')\n",
    "\n",
    "new_user_input_3 = user_input_3[-1] + user_input_3[1:-1] + user_input_3[0]\n",
    "\n",
    "print(new_user_input_3)"
   ]
  },
  {
   "cell_type": "markdown",
   "id": "ec63ebbd",
   "metadata": {},
   "source": [
    "4. Write a Python program that accepts a string from user. Your program should create a new string in \n",
    "reverse of first string and display it. \n",
    "For example if the user enters the string 'EXAM' then new string would be 'MAXE'"
   ]
  },
  {
   "cell_type": "code",
   "execution_count": 10,
   "id": "75f828e7",
   "metadata": {},
   "outputs": [
    {
     "name": "stdout",
     "output_type": "stream",
     "text": [
      "Hello -> olleH\n"
     ]
    }
   ],
   "source": [
    "user_input_4 = input('Enter word/sentence to reverse it:\\n')\n",
    "\n",
    "new_user_input_4 = user_input_4[::-1]\n",
    "\n",
    "print(f'{user_input_4} -> {new_user_input_4}')"
   ]
  },
  {
   "cell_type": "markdown",
   "id": "7c119830",
   "metadata": {},
   "source": [
    "5. Write a Python program that accepts a string from user. Your program should create a new string by \n",
    "shifting one position to left. \n",
    "For example if the user enters the string 'examination 2021' then new string would be 'xamination \n",
    "2021e'"
   ]
  },
  {
   "cell_type": "code",
   "execution_count": 12,
   "id": "b7b82f0d",
   "metadata": {},
   "outputs": [
    {
     "name": "stdout",
     "output_type": "stream",
     "text": [
      "xamination 2021e\n"
     ]
    }
   ],
   "source": [
    "user_input_5 = input('Enter word/sentence to exchange the first and last character:\\n')\n",
    "\n",
    "new_user_input_5 = user_input_5[1:] + user_input_5[0]\n",
    "\n",
    "print(new_user_input_5)"
   ]
  },
  {
   "cell_type": "markdown",
   "id": "069b3e8b",
   "metadata": {},
   "source": [
    " 6. Write a program that asks the user to input his name and print its initials. Assuming that the user \n",
    "always types first name, middle name and last name and does not include any unnecessary spaces.   \n",
    "For example, if the user enters Ajay Kumar Garg the program should display A. K. G.   \n",
    "Note:Don't use split() method"
   ]
  },
  {
   "cell_type": "code",
   "execution_count": 17,
   "id": "c675505b",
   "metadata": {},
   "outputs": [
    {
     "name": "stdout",
     "output_type": "stream",
     "text": [
      "H.Z.\n"
     ]
    }
   ],
   "source": [
    "user_input_6 = input(\"Enter your name to print initials: \")\n",
    "\n",
    "initials_6 = ''\n",
    "\n",
    "start = 0\n",
    "end = len(user_input_6)\n",
    "\n",
    "space_found = True\n",
    "\n",
    "for char in user_input_6:\n",
    "  if space_found and not char.isspace():\n",
    "    initials_6 += f'{char.upper()}.'\n",
    "    space_found = False\n",
    "  elif char.isspace():\n",
    "    space_found = True\n",
    "\n",
    "print(initials_6)"
   ]
  },
  {
   "cell_type": "markdown",
   "id": "b76598bd",
   "metadata": {},
   "source": [
    "7. A palindrome is a string that reads the same backward as forward. For example, the words dad, \n",
    "madam and radar are all palindromes. Write a programs that determines whether the string is a \n",
    "palindrome.  \n",
    "Note: do not use reverse() method"
   ]
  },
  {
   "cell_type": "code",
   "execution_count": null,
   "id": "bf92013a",
   "metadata": {},
   "outputs": [],
   "source": [
    "user_input_7 = input('Enter any word/sentence to check for palindrome:\\n').lower()\n",
    "\n",
    "if user_input_7 == user_input_7[::-1]:\n",
    "  print('This is a palindrome')\n",
    "else:\n",
    "  print('This is not a palindrome')"
   ]
  },
  {
   "cell_type": "markdown",
   "id": "b231da2c",
   "metadata": {},
   "source": [
    "8. Write a program that display following output:  \n",
    "SHIFT  \n",
    "HIFTS  \n",
    "IFTSH  \n",
    "FTSHI  \n",
    "TSHIF  \n",
    "SHIFT  "
   ]
  },
  {
   "cell_type": "code",
   "execution_count": null,
   "id": "f481ea67",
   "metadata": {},
   "outputs": [],
   "source": []
  },
  {
   "cell_type": "markdown",
   "id": "24bff8c1",
   "metadata": {},
   "source": [
    " 9. Write a program in python that accepts a string to setup a passwords. Your entered password must \n",
    "meet the following requirements:  \n",
    "The password must be at least eight characters long.  \n",
    "It must contain at least one uppercase letter.  \n",
    "It must contain at least one lowercase letter.  \n",
    "It must contain at least one numeric digit.  \n",
    "Your program should should perform this validation  "
   ]
  },
  {
   "cell_type": "code",
   "execution_count": 31,
   "id": "17ea8bc9",
   "metadata": {},
   "outputs": [
    {
     "name": "stdout",
     "output_type": "stream",
     "text": [
      "The password meets the requirements.\n"
     ]
    }
   ],
   "source": [
    "import string\n",
    "\n",
    "user_input_9 = input('Enter a password to check if it fulfills the requirements:\\n')\n",
    "\n",
    "uppercase_letters = string.ascii_uppercase\n",
    "lowercase_letters = string.ascii_lowercase\n",
    "\n",
    "contains_upper = False\n",
    "contains_lower = False\n",
    "contains_digit = False\n",
    "\n",
    "for char in user_input_9:\n",
    "  if char in uppercase_letters:\n",
    "    contains_upper = True\n",
    "  elif char in lowercase_letters:\n",
    "    contains_lower = True\n",
    "  elif char.isdigit():\n",
    "    contains_digit = True\n",
    "\n",
    "if contains_upper and contains_lower and contains_digit:\n",
    "  print('The password meets the requirements.')\n",
    "else:\n",
    "  print('The password does not meet the requirements.')"
   ]
  }
 ],
 "metadata": {
  "kernelspec": {
   "display_name": "base",
   "language": "python",
   "name": "python3"
  },
  "language_info": {
   "codemirror_mode": {
    "name": "ipython",
    "version": 3
   },
   "file_extension": ".py",
   "mimetype": "text/x-python",
   "name": "python",
   "nbconvert_exporter": "python",
   "pygments_lexer": "ipython3",
   "version": "3.13.5"
  }
 },
 "nbformat": 4,
 "nbformat_minor": 5
}
